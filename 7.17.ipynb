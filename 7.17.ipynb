{
 "cells": [
  {
   "cell_type": "markdown",
   "metadata": {},
   "source": [
    "# 数学函数、字符串和对象\n",
    "## 本章介绍Python函数来执行常见的数学运算\n",
    "- 函数是完成一个特殊任务的一组语句，可以理解为一个函数相当于一个小功能，但是在开发中，需要注意一个函数的长度最好不要超过一屏\n",
    "- Python中的内置函数是不需要Import导入的\n",
    "<img src=\"Photo/15.png\"></img>"
   ]
  },
  {
   "cell_type": "code",
   "execution_count": 6,
   "metadata": {},
   "outputs": [
    {
     "ename": "SyntaxError",
     "evalue": "invalid syntax (<ipython-input-6-5be1f77d1436>, line 6)",
     "output_type": "error",
     "traceback": [
      "\u001b[1;36m  File \u001b[1;32m\"<ipython-input-6-5be1f77d1436>\"\u001b[1;36m, line \u001b[1;32m6\u001b[0m\n\u001b[1;33m    else choose_method =='min':\u001b[0m\n\u001b[1;37m                     ^\u001b[0m\n\u001b[1;31mSyntaxError\u001b[0m\u001b[1;31m:\u001b[0m invalid syntax\n"
     ]
    }
   ],
   "source": [
    "a,b,c=int(input('输入三个数字分隔'))\n",
    "choose_method=input('请选择你的执行方式')\n",
    "if choose_method =='max': \n",
    "    max_=max(a,b,c)\n",
    "    print(max_)\n",
    "else choose_method =='min':\n",
    "    min_=min(a,b,c)\n",
    "    print(min_)\n",
    "else choose_method =='pow_sum':\n",
    "    pow_sum = pow(a,2)+ pow(b,2)+pow(c,2)\n",
    "    print(pow_sum)"
   ]
  },
  {
   "cell_type": "markdown",
   "metadata": {},
   "source": [
    "## 尝试练习Python内置函数"
   ]
  },
  {
   "cell_type": "markdown",
   "metadata": {},
   "source": [
    "## Python中的math模块提供了许多数学函数\n",
    "<img src=\"./Photo/16.png\"></img>\n",
    "<img src=\"./Photo/17.png\"></img>\n"
   ]
  },
  {
   "cell_type": "markdown",
   "metadata": {},
   "source": [
    "## 两个数学常量PI和e，可以通过使用math.pi 和math.e调用"
   ]
  },
  {
   "cell_type": "code",
   "execution_count": 12,
   "metadata": {},
   "outputs": [
    {
     "ename": "NameError",
     "evalue": "name 'math' is not defined",
     "output_type": "error",
     "traceback": [
      "\u001b[1;31m---------------------------------------------------------------------------\u001b[0m",
      "\u001b[1;31mNameError\u001b[0m                                 Traceback (most recent call last)",
      "\u001b[1;32m<ipython-input-12-347da5a4c145>\u001b[0m in \u001b[0;36m<module>\u001b[1;34m()\u001b[0m\n\u001b[0;32m      1\u001b[0m \u001b[1;32mimport\u001b[0m \u001b[0mrandom\u001b[0m\u001b[1;33m\u001b[0m\u001b[0m\n\u001b[0;32m      2\u001b[0m \u001b[0mrandom_num\u001b[0m\u001b[1;33m=\u001b[0m\u001b[0mrandom\u001b[0m\u001b[1;33m.\u001b[0m\u001b[0mrandom\u001b[0m\u001b[1;33m(\u001b[0m\u001b[1;33m)\u001b[0m\u001b[1;33m/\u001b[0m\u001b[1;36m2000\u001b[0m\u001b[1;33m\u001b[0m\u001b[0m\n\u001b[1;32m----> 3\u001b[1;33m \u001b[0mres\u001b[0m\u001b[1;33m=\u001b[0m\u001b[1;36m1.\u001b[0m\u001b[1;33m/\u001b[0m\u001b[1;33m(\u001b[0m\u001b[1;36m1.\u001b[0m\u001b[1;33m+\u001b[0m\u001b[0mmath\u001b[0m\u001b[1;33m.\u001b[0m\u001b[0mexp\u001b[0m\u001b[1;33m(\u001b[0m\u001b[1;33m-\u001b[0m\u001b[0mrandom_num\u001b[0m\u001b[1;33m)\u001b[0m\u001b[1;33m)\u001b[0m\u001b[1;33m\u001b[0m\u001b[0m\n\u001b[0m\u001b[0;32m      4\u001b[0m \u001b[0mres\u001b[0m\u001b[1;33m\u001b[0m\u001b[0m\n\u001b[0;32m      5\u001b[0m \u001b[1;33m\u001b[0m\u001b[0m\n",
      "\u001b[1;31mNameError\u001b[0m: name 'math' is not defined"
     ]
    }
   ],
   "source": [
    "import random\n",
    "random_num=random.random()/2000\n",
    "res=1./(1.+math.exp(-random_num))\n",
    "res\n",
    "  "
   ]
  },
  {
   "cell_type": "markdown",
   "metadata": {},
   "source": [
    "## EP:\n",
    "- 通过math库，写一个程序，使得用户输入三个顶点(x,y)返回三个角度\n",
    "- 注意：Python计算角度为弧度制，需要将其转换为角度\n",
    "<img src=\"./Photo/18.png\">"
   ]
  },
  {
   "cell_type": "code",
   "execution_count": 55,
   "metadata": {},
   "outputs": [
    {
     "name": "stdout",
     "output_type": "stream",
     "text": [
      "输入三个顶点1,1,3,4,5,2\n",
      "41 41 41\n"
     ]
    }
   ],
   "source": [
    "import math\n",
    "x1,y1,x2,y2,x3,y3=eval(input('输入三个顶点'))\n",
    "a=math.sqrt((x2-x3)**2*(y2-y3)**2)\n",
    "b=math.sqrt((x1-x3)**2*(y1-y3)**2)\n",
    "c=math.sqrt((x1-x2)**2*(y1-y2)**2)\n",
    "A = math.acos((a * a - b * b - c * c)/(-2 * b * c))\n",
    "B = math.acos((b * b - a * a - c * c)/(-2 * a * c))\n",
    "C = math.acos((c * c - b * b - a * a)/(-2 * a * b))\n",
    "print(round(math.degrees(A)),round(math.degrees(A)),round(math.degrees(A)))"
   ]
  },
  {
   "cell_type": "markdown",
   "metadata": {},
   "source": [
    "## 字符串和字符\n",
    "- 在Python中，字符串必须是在单引号或者双引号内，在多段换行的字符串中可以使用“”“\n",
    "- 在使用”“”时，给予其变量则变为字符串，否则当多行注释使用"
   ]
  },
  {
   "cell_type": "code",
   "execution_count": 34,
   "metadata": {},
   "outputs": [
    {
     "data": {
      "text/plain": [
       "<matplotlib.image.AxesImage at 0x68c3af0>"
      ]
     },
     "execution_count": 34,
     "metadata": {},
     "output_type": "execute_result"
    },
    {
     "data": {
      "image/png": "[encoded data removed]",
      "text/plain": [
       "<matplotlib.figure.Figure at 0x6bc9ef0>"
      ]
     },
     "metadata": {},
     "output_type": "display_data"
    }
   ],
   "source": [
    "import math\n",
    "import matplotlib.pyplot as plt\n",
    "import numpy as np\n",
    "image = plt.imread('C:/Users/Administrator/Desktop/Photo/02.png')\n",
    "plt.imshow(image/math.sin(50))"
   ]
  },
  {
   "cell_type": "markdown",
   "metadata": {},
   "source": [
    "## ASCII码与Unicode码\n",
    "- <img src=\"./Photo/19.png\"></img>\n",
    "- <img src=\"./Photo/20.png\"></img>\n",
    "- <img src=\"./Photo/21.png\"></img>"
   ]
  },
  {
   "cell_type": "markdown",
   "metadata": {},
   "source": [
    "## 函数ord、chr\n",
    "- ord 返回ASCII码值\n",
    "- chr 返回字符"
   ]
  },
  {
   "cell_type": "markdown",
   "metadata": {},
   "source": [
    "## EP:\n",
    "- 利用ord与chr进行简单邮箱加密"
   ]
  },
  {
   "cell_type": "code",
   "execution_count": 13,
   "metadata": {},
   "outputs": [
    {
     "name": "stdout",
     "output_type": "stream",
     "text": [
      "6\n",
      "6=\n",
      "6=9\n",
      "6=97\n",
      "6=979\n",
      "6=979=\n",
      "6=979=9\n",
      "6=979=9=\n",
      "6=979=9=<\n",
      "6=979=9=<6\n",
      "6=979=9=<6E\n",
      "6=979=9=<6Ev\n",
      "6=979=9=<6Evv\n",
      "6=979=9=<6Evv3\n",
      "6=979=9=<6Evv3h\n",
      "6=979=9=<6Evv3ht\n",
      "6=979=9=<6Evv3htr\n"
     ]
    }
   ],
   "source": [
    "title = '1842484871@qq.com'\n",
    "result = ''\n",
    "for i in title:\n",
    "    result = result + chr(ord(i)+5)\n",
    "    print(result)\n",
    "    "
   ]
  },
  {
   "cell_type": "markdown",
   "metadata": {},
   "source": [
    "## 转义序列 \\\n",
    "- a = \"He said,\"Johon's program is easy to read\"\n",
    "- 转掉它原来的意思\n",
    "- 一般情况下只有当语句与默认方法相撞的时候，就需要转义"
   ]
  },
  {
   "cell_type": "code",
   "execution_count": 31,
   "metadata": {},
   "outputs": [
    {
     "name": "stdout",
     "output_type": "stream",
     "text": [
      "MD5184248484871\n",
      "d41d8cd98f00b204e9800998ecf8427e\n"
     ]
    }
   ],
   "source": [
    "import hashlib\n",
    "str_='184248484871'\n",
    "hl=hashlib.md5()\n",
    "print('MD5'+str_)\n",
    "print(hl.hexdigest())"
   ]
  },
  {
   "cell_type": "markdown",
   "metadata": {},
   "source": [
    "## 高级print\n",
    "- 参数 end： 以什么方式结束打印\n",
    "- 默认换行打印"
   ]
  },
  {
   "cell_type": "code",
   "execution_count": 55,
   "metadata": {},
   "outputs": [
    {
     "name": "stdout",
     "output_type": "stream",
     "text": [
      "184248484871\n",
      "Faild\n"
     ]
    }
   ],
   "source": [
    "import hashlib\n",
    "dateset='d41d8cd98f00b204e9800998ecf8427e'\n",
    "password = input('')\n",
    "hl=hashlib.md5()\n",
    "hl.update(password.encode(encoding='utf-8'))\n",
    "if dateset == hl.hexdigest():\n",
    "    print('Success')\n",
    "else: \n",
    "    print('Faild')"
   ]
  },
  {
   "cell_type": "markdown",
   "metadata": {},
   "source": [
    "## 函数str\n",
    "- 将类型强制转换成字符串类型\n",
    "- 其他一些以后会学到(list,set,tuple...)"
   ]
  },
  {
   "cell_type": "markdown",
   "metadata": {},
   "source": [
    "## 字符串连接操作\n",
    "- 直接使用 “+” \n",
    "- join() 函数 "
   ]
  },
  {
   "cell_type": "code",
   "execution_count": null,
   "metadata": {},
   "outputs": [],
   "source": []
  },
  {
   "cell_type": "markdown",
   "metadata": {},
   "source": [
    "## EP：\n",
    "- 将 “Welcome” “to” \"Python\" 拼接\n",
    "- 将int型 100 与 “joker is a bad man” 拼接\n",
    "- 从控制台读取字符串\n",
    "> 输入一个名字返回夸奖此人"
   ]
  },
  {
   "cell_type": "code",
   "execution_count": 62,
   "metadata": {},
   "outputs": [
    {
     "data": {
      "text/plain": [
       "'Welcome to Python'"
      ]
     },
     "execution_count": 62,
     "metadata": {},
     "output_type": "execute_result"
    }
   ],
   "source": [
    "'Welcome'+' to '+'Python'\n"
   ]
  },
  {
   "cell_type": "code",
   "execution_count": 66,
   "metadata": {},
   "outputs": [
    {
     "data": {
      "text/plain": [
       "'100joker is a bad man'"
      ]
     },
     "execution_count": 66,
     "metadata": {},
     "output_type": "execute_result"
    }
   ],
   "source": [
    "str(100)+'joker is a bad man'"
   ]
  },
  {
   "cell_type": "code",
   "execution_count": 67,
   "metadata": {},
   "outputs": [
    {
     "name": "stdout",
     "output_type": "stream",
     "text": [
      "shurusss\n",
      "sss帅\n"
     ]
    }
   ],
   "source": [
    "name=input('shuru')\n",
    "\n",
    "print(name+'帅')"
   ]
  },
  {
   "cell_type": "markdown",
   "metadata": {},
   "source": [
    "## 实例研究：最小数量硬币\n",
    "- 开发一个程序，让用户输入总金额，这是一个用美元和美分表示的浮点值，返回一个由美元、两角五分的硬币、一角的硬币、五分硬币、以及美分个数\n",
    "<img src=\"./Photo/22.png\"></img>"
   ]
  },
  {
   "cell_type": "markdown",
   "metadata": {},
   "source": [
    "- Python弱项，对于浮点型的处理并不是很好，但是处理数据的时候使用的是Numpy类型\n",
    "<img src=\"./Photo/23.png\"></img>"
   ]
  },
  {
   "cell_type": "code",
   "execution_count": 79,
   "metadata": {},
   "outputs": [
    {
     "data": {
      "text/plain": [
       "3.141592653589793"
      ]
     },
     "execution_count": 79,
     "metadata": {},
     "output_type": "execute_result"
    }
   ],
   "source": [
    "math.pi"
   ]
  },
  {
   "cell_type": "markdown",
   "metadata": {},
   "source": [
    "## id与type\n",
    "- id 查看内存地址，在判断语句中将会使用\n",
    "- type 查看元素类型"
   ]
  },
  {
   "cell_type": "markdown",
   "metadata": {},
   "source": [
    "## 其他格式化语句见书"
   ]
  },
  {
   "cell_type": "markdown",
   "metadata": {},
   "source": [
    "# Homework\n",
    "- 1\n",
    "<img src=\"./Photo/24.png\"><img>\n",
    "<img src=\"./Photo/25.png\"><img>"
   ]
  },
  {
   "cell_type": "code",
   "execution_count": 90,
   "metadata": {},
   "outputs": [
    {
     "name": "stdout",
     "output_type": "stream",
     "text": [
      "Enter the length from the center to a vertex:5.5\n",
      "The area of the pentagon is  71.92\n"
     ]
    }
   ],
   "source": [
    "import math\n",
    "r=eval(input('Enter the length from the center to a vertex:'))\n",
    "s=2*r*math.sin(math.pi/5)\n",
    "Area=round(5*s*s/(4*math.tan(math.pi/5)),2)\n",
    "print('The area of the pentagon is ',Area)"
   ]
  },
  {
   "cell_type": "markdown",
   "metadata": {},
   "source": [
    "- 2\n",
    "<img src=\"./Photo/26.png\"><img>"
   ]
  },
  {
   "cell_type": "code",
   "execution_count": 111,
   "metadata": {},
   "outputs": [
    {
     "name": "stdout",
     "output_type": "stream",
     "text": [
      "Enter point 1 (latitude and longitude) in degress:39.55,-116.25\n",
      "Enter point 2 (latitude and longitude) in degress:41.5,87.37\n",
      "The distance between the two points is  894791.3036637998 km\n"
     ]
    }
   ],
   "source": [
    "import math\n",
    "x1,y1=eval(input('Enter point 1 (latitude and longitude) in degress:'))\n",
    "x2,y2=eval(input('Enter point 2 (latitude and longitude) in degress:'))\n",
    "radius=6371.01\n",
    "d=radius*(math.acos(math.sin(x1)*math.sin(x2)+math.cos(x1)*math.cos(x2)*math.cos(y1-y2)))\n",
    "print('The distance between the two points is ',math.degrees(d),'km')"
   ]
  },
  {
   "cell_type": "markdown",
   "metadata": {},
   "source": [
    "- 3\n",
    "<img src=\"./Photo/27.png\"><img>"
   ]
  },
  {
   "cell_type": "code",
   "execution_count": 91,
   "metadata": {},
   "outputs": [
    {
     "name": "stdout",
     "output_type": "stream",
     "text": [
      "Enter the side:5.5\n",
      "The area of the pentagon is  52.04444136781625\n"
     ]
    }
   ],
   "source": [
    "import math\n",
    "s=eval(input('Enter the side:'))\n",
    "Area=5*s*s/(4*math.tan(math.pi/5))\n",
    "print('The area of the pentagon is ',Area)"
   ]
  },
  {
   "cell_type": "markdown",
   "metadata": {},
   "source": [
    "- 4\n",
    "<img src=\"./Photo/28.png\"><img>"
   ]
  },
  {
   "cell_type": "code",
   "execution_count": 92,
   "metadata": {},
   "outputs": [
    {
     "name": "stdout",
     "output_type": "stream",
     "text": [
      "Enter the number of sides:5\n",
      "Enter the side:6.5\n",
      "The area of the polygon is  72.69017017488385\n"
     ]
    }
   ],
   "source": [
    "import math\n",
    "n=eval(input('Enter the number of sides:'))\n",
    "s=eval(input('Enter the side:'))\n",
    "Area=n*s*s/(4*math.tan(math.pi/n))\n",
    "print('The area of the polygon is ',Area)"
   ]
  },
  {
   "cell_type": "markdown",
   "metadata": {},
   "source": [
    "- 5\n",
    "<img src=\"./Photo/29.png\"><img>\n",
    "<img src=\"./Photo/30.png\"><img>"
   ]
  },
  {
   "cell_type": "code",
   "execution_count": 94,
   "metadata": {},
   "outputs": [
    {
     "name": "stdout",
     "output_type": "stream",
     "text": [
      "Enter an ASCII code:69\n",
      "The character is  E\n"
     ]
    }
   ],
   "source": [
    "num=int(input('Enter an ASCII code:'))\n",
    "print('The character is ',chr(num))"
   ]
  },
  {
   "cell_type": "markdown",
   "metadata": {},
   "source": [
    "- 6\n",
    "<img src=\"./Photo/31.png\"><img>"
   ]
  },
  {
   "cell_type": "code",
   "execution_count": 114,
   "metadata": {},
   "outputs": [
    {
     "name": "stdout",
     "output_type": "stream",
     "text": [
      "Enter employee name:Smith\n",
      "Enter number of hours worked in a week:10\n",
      "Enter hourly pay rate:9.75\n",
      "Enter federal tax withholding rate:0.20\n",
      "Enter state tax withholding rate:0.09\n",
      "Employee Name: Smith\n",
      "Hours Worked: 10\n",
      "Pay Rate: 9.75\n",
      "Gross Pay: 97.5\n",
      "Deductions:\n",
      "Federal Withholding(20.0%): 19.5\n",
      "State Withholding(9.0%): 8.775\n",
      "Net pay: 69.225\n"
     ]
    }
   ],
   "source": [
    "name=input('Enter employee name:')\n",
    "week=eval(input('Enter number of hours worked in a week:'))\n",
    "pay=eval(input('Enter hourly pay rate:'))\n",
    "rate1=eval(input('Enter federal tax withholding rate:'))\n",
    "rate2=eval(input('Enter state tax withholding rate:'))\n",
    "total=week*pay\n",
    "pay1=total*rate1\n",
    "pay2=total*rate2\n",
    "pay3=total-pay1-pay2\n",
    "print('Employee Name:',name)\n",
    "print('Hours Worked:',week)\n",
    "print('Pay Rate:',pay)\n",
    "print('Gross Pay:',total)\n",
    "print('Deductions:')\n",
    "print('Federal Withholding(20.0%):',pay1)\n",
    "print('State Withholding(9.0%):',pay2)\n",
    "print('Net pay:',pay3)"
   ]
  },
  {
   "cell_type": "markdown",
   "metadata": {},
   "source": [
    "- 7\n",
    "<img src=\"./Photo/32.png\"><img>"
   ]
  },
  {
   "cell_type": "code",
   "execution_count": 108,
   "metadata": {},
   "outputs": [
    {
     "name": "stdout",
     "output_type": "stream",
     "text": [
      "Enter an iteger:3125\n",
      "The reversed number is 5213\n"
     ]
    }
   ],
   "source": [
    "num1=int(input('Enter an iteger:'))\n",
    "num2=num1%10\n",
    "num3=(num1//10)%10\n",
    "num4=(num1//100)%10\n",
    "num5=num1//1000\n",
    "sum=num2*1000+num3*100+num4*10+num5\n",
    "print('The reversed number is',sum)"
   ]
  },
  {
   "cell_type": "markdown",
   "metadata": {},
   "source": [
    "- 8 进阶：\n",
    "> 加密一串文本，并将解密后的文件写入本地保存"
   ]
  },
  {
   "cell_type": "code",
   "execution_count": 119,
   "metadata": {},
   "outputs": [],
   "source": [
    "import hashlib\n"
   ]
  }
 ],
 "metadata": {
  "kernelspec": {
   "display_name": "Python 3",
   "language": "python",
   "name": "python3"
  },
  "language_info": {
   "codemirror_mode": {
    "name": "ipython",
    "version": 3
   },
   "file_extension": ".py",
   "mimetype": "text/x-python",
   "name": "python",
   "nbconvert_exporter": "python",
   "pygments_lexer": "ipython3",
   "version": "3.6.4"
  }
 },
 "nbformat": 4,
 "nbformat_minor": 2
}
