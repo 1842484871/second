{
 "cells": [
  {
   "cell_type": "markdown",
   "metadata": {},
   "source": [
    "# 函数\n",
    "\n",
    "- 函数可以用来定义可重复代码，组织和简化\n",
    "- 一般来说一个函数在实际开发中为一个小功能\n",
    "- 一个类为一个大功能\n",
    "- 同样函数的长度不要超过一屏"
   ]
  },
  {
   "cell_type": "markdown",
   "metadata": {},
   "source": [
    "## 定义一个函数\n",
    "\n",
    "def function_name(list of parameters):\n",
    "    \n",
    "    do something\n",
    "![](./Photo/69.png)\n",
    "- 以前使用的random 或者range 或者print.. 其实都是函数或者类"
   ]
  },
  {
   "cell_type": "code",
   "execution_count": 13,
   "metadata": {},
   "outputs": [],
   "source": [
    "def sushu():\n",
    "    for i in range(2,51):\n",
    "            for j in range(2,i):\n",
    "                if i%j==0:\n",
    "                    break\n",
    "            else:\n",
    "                print(i,end=' ')\n"
   ]
  },
  {
   "cell_type": "code",
   "execution_count": 14,
   "metadata": {},
   "outputs": [
    {
     "name": "stdout",
     "output_type": "stream",
     "text": [
      "2 3 5 7 11 13 17 19 23 29 31 37 41 43 47 "
     ]
    }
   ],
   "source": [
    "sushu()"
   ]
  },
  {
   "cell_type": "code",
   "execution_count": 7,
   "metadata": {},
   "outputs": [
    {
     "ename": "NameError",
     "evalue": "name 'sushu' is not defined",
     "output_type": "error",
     "traceback": [
      "\u001b[1;31m---------------------------------------------------------------------------\u001b[0m",
      "\u001b[1;31mNameError\u001b[0m                                 Traceback (most recent call last)",
      "\u001b[1;32m<ipython-input-7-e2d2a6e1e991>\u001b[0m in \u001b[0;36m<module>\u001b[1;34m()\u001b[0m\n\u001b[1;32m----> 1\u001b[1;33m \u001b[0msushu\u001b[0m\u001b[1;33m(\u001b[0m\u001b[1;33m)\u001b[0m\u001b[1;33m\u001b[0m\u001b[0m\n\u001b[0m",
      "\u001b[1;31mNameError\u001b[0m: name 'sushu' is not defined"
     ]
    }
   ],
   "source": []
  },
  {
   "cell_type": "markdown",
   "metadata": {},
   "source": [
    "## 调用一个函数\n",
    "- functionName()\n",
    "- \"()\" 就代表调用"
   ]
  },
  {
   "cell_type": "markdown",
   "metadata": {},
   "source": [
    "![](../Photo/70.png)"
   ]
  },
  {
   "cell_type": "markdown",
   "metadata": {},
   "source": [
    "## 带返回值和不带返回值的函数\n",
    "- return 返回的内容\n",
    "- return 返回多个值\n",
    "- 一般情况下，在多个函数协同完成一个功能的时候，那么将会有返回值"
   ]
  },
  {
   "cell_type": "markdown",
   "metadata": {},
   "source": [
    "![](../Photo/71.png)\n",
    "\n",
    "- 当然也可以自定义返回None"
   ]
  },
  {
   "cell_type": "markdown",
   "metadata": {},
   "source": [
    "## EP：\n",
    "![](./Photo/72.png)"
   ]
  },
  {
   "cell_type": "markdown",
   "metadata": {},
   "source": [
    "## 类型和关键字参数\n",
    "- 普通参数\n",
    "- 多个参数\n",
    "- 默认值参数\n",
    "- 不定长参数"
   ]
  },
  {
   "cell_type": "code",
   "execution_count": 8,
   "metadata": {},
   "outputs": [],
   "source": [
    "def san(nu1):\n",
    "    return nu1**3\n",
    "def liang(nu1):\n",
    "    return nu1**2\n",
    "def suibian():\n",
    "    nu1=eval(input(''))\n",
    "    nu2=san(nu1)\n",
    "    nu3=liang(nu1)\n",
    "    print(nu2-nu3)\n"
   ]
  },
  {
   "cell_type": "code",
   "execution_count": null,
   "metadata": {
    "scrolled": true
   },
   "outputs": [],
   "source": [
    "suibian()"
   ]
  },
  {
   "cell_type": "markdown",
   "metadata": {},
   "source": [
    "## 普通参数\n"
   ]
  },
  {
   "cell_type": "code",
   "execution_count": null,
   "metadata": {},
   "outputs": [],
   "source": [
    "name ='12345@qq.com'\n",
    "password='123456'\n",
    "is_ok_and_y=False"
   ]
  },
  {
   "cell_type": "code",
   "execution_count": null,
   "metadata": {},
   "outputs": [],
   "source": [
    "def login(name1,password1):\n",
    "    if name1==name and password1==password:\n",
    "        print('成功')\n",
    "    else:\n",
    "        print('失败')"
   ]
  },
  {
   "cell_type": "code",
   "execution_count": null,
   "metadata": {},
   "outputs": [],
   "source": [
    "def date():\n",
    "    global is_ok_and_y\n",
    "    if is_ok_and_y==False:   \n",
    "        print('是否七天免登录?Y/N')\n",
    "        res=input('>>')\n",
    "        name1=input('请输入账号')\n",
    "        password1=input('请输入密码')\n",
    "        if res=='Y':\n",
    "            login(name1,password1)\n",
    "            is_ok_and_y=True\n",
    "        else:\n",
    "            login(name1,password1)\n",
    "    else:\n",
    "        print('登录成功')\n",
    "    "
   ]
  },
  {
   "cell_type": "code",
   "execution_count": null,
   "metadata": {},
   "outputs": [
    {
     "name": "stdout",
     "output_type": "stream",
     "text": [
      "是否七天免登录?Y/N\n"
     ]
    }
   ],
   "source": [
    "date()"
   ]
  },
  {
   "cell_type": "markdown",
   "metadata": {},
   "source": [
    "## 多个参数"
   ]
  },
  {
   "cell_type": "markdown",
   "metadata": {},
   "source": [
    "## 默认值参数"
   ]
  },
  {
   "cell_type": "markdown",
   "metadata": {},
   "source": [
    "## 强制命名"
   ]
  },
  {
   "cell_type": "code",
   "execution_count": null,
   "metadata": {},
   "outputs": [],
   "source": []
  },
  {
   "cell_type": "markdown",
   "metadata": {},
   "source": [
    "## 不定长参数\n",
    "- \\*args\n",
    "> - 不定长，来多少装多少，不装也是可以的\n",
    "  - 返回的数据类型是元组\n",
    "  - args 名字是可以修改的，只是我们约定俗成的是args\n",
    "- \\**kwargs \n",
    "> - 返回的字典\n",
    "  - 输入的一定要是表达式（键值对）\n",
    "- name,\\*args,name2,\\**kwargs  使用参数名"
   ]
  },
  {
   "cell_type": "code",
   "execution_count": null,
   "metadata": {},
   "outputs": [],
   "source": []
  },
  {
   "cell_type": "markdown",
   "metadata": {},
   "source": [
    "## 变量的作用域\n",
    "- 局部变量 local\n",
    "- 全局变量 global\n",
    "- globals 函数返回一个全局变量的字典，包括所有导入的变量\n",
    "- locals() 函数会以字典类型返回当前位置的全部局部变量。"
   ]
  },
  {
   "cell_type": "markdown",
   "metadata": {},
   "source": [
    "## 注意：\n",
    "- global ：在进行赋值操作的时候需要声明\n",
    "- 官方解释：This is because when you make an assignment to a variable in a scope, that variable becomes local to that scope and shadows any similarly named variable in the outer scope.\n",
    "- ![](./Photo/73.png)"
   ]
  },
  {
   "cell_type": "markdown",
   "metadata": {},
   "source": [
    "# Homework\n",
    "- 1\n",
    "![](./Photo/74.png)"
   ]
  },
  {
   "cell_type": "code",
   "execution_count": 63,
   "metadata": {},
   "outputs": [],
   "source": [
    "def gentPentagonnaNumber(n):\n",
    "    count=0\n",
    "    for n in range(1,101):\n",
    "        num=n*(3*n-1)/2\n",
    "        count+=1\n",
    "        print(int(num) ,end=' ')\n",
    "        if(count%10==0):\n",
    "            print(end='\\n')\n",
    "        \n",
    "        \n",
    "       "
   ]
  },
  {
   "cell_type": "code",
   "execution_count": 64,
   "metadata": {},
   "outputs": [
    {
     "name": "stdout",
     "output_type": "stream",
     "text": [
      "1 5 12 22 35 51 70 92 117 145 \n",
      "176 210 247 287 330 376 425 477 532 590 \n",
      "651 715 782 852 925 1001 1080 1162 1247 1335 \n",
      "1426 1520 1617 1717 1820 1926 2035 2147 2262 2380 \n",
      "2501 2625 2752 2882 3015 3151 3290 3432 3577 3725 \n",
      "3876 4030 4187 4347 4510 4676 4845 5017 5192 5370 \n",
      "5551 5735 5922 6112 6305 6501 6700 6902 7107 7315 \n",
      "7526 7740 7957 8177 8400 8626 8855 9087 9322 9560 \n",
      "9801 10045 10292 10542 10795 11051 11310 11572 11837 12105 \n",
      "12376 12650 12927 13207 13490 13776 14065 14357 14652 14950 \n"
     ]
    }
   ],
   "source": [
    "gentPentagonnaNumber(n)\n"
   ]
  },
  {
   "cell_type": "markdown",
   "metadata": {},
   "source": [
    "- 2 \n",
    "![](./Photo/75.png)"
   ]
  },
  {
   "cell_type": "code",
   "execution_count": 5,
   "metadata": {},
   "outputs": [],
   "source": [
    "def sumDigits():\n",
    "    sum_=0\n",
    "    num=eval(input('请输入整数'))\n",
    "    while num>10:\n",
    "        sum_=sum_+num%10\n",
    "        num =num//10\n",
    "    print(sum_+num)"
   ]
  },
  {
   "cell_type": "code",
   "execution_count": 7,
   "metadata": {},
   "outputs": [
    {
     "name": "stdout",
     "output_type": "stream",
     "text": [
      "请输入整数123\n",
      "6\n"
     ]
    }
   ],
   "source": [
    "sumDigits()"
   ]
  },
  {
   "cell_type": "markdown",
   "metadata": {},
   "source": [
    "- 3\n",
    "![](./Photo/76.png)"
   ]
  },
  {
   "cell_type": "code",
   "execution_count": 72,
   "metadata": {},
   "outputs": [],
   "source": [
    "def displaySortedNumbers():\n",
    "    num1,num2,num3=eval(input('Enter three numbers:'))\n",
    "    print('The sorted numbers are:',min(num1,num2,num3),(num1+num2+num3-min(num1,num2,num3)-max(num1,num2,num3)),max(num1,num2,num3))\n"
   ]
  },
  {
   "cell_type": "code",
   "execution_count": 71,
   "metadata": {},
   "outputs": [
    {
     "name": "stdout",
     "output_type": "stream",
     "text": [
      "Enter three numbers:1,2,3\n",
      "The sorted numbers are: 1 2 3\n"
     ]
    }
   ],
   "source": [
    "displaySortedNumbers()"
   ]
  },
  {
   "cell_type": "markdown",
   "metadata": {},
   "source": [
    "- 4\n",
    "![](./Photo/77.png)"
   ]
  },
  {
   "cell_type": "code",
   "execution_count": 101,
   "metadata": {},
   "outputs": [],
   "source": [
    "def future():\n",
    "    amount=eval(input('The amount invested:'))\n",
    "    rate=eval(input('Annual interest rate::'))\n",
    "    for y in range(1,31):\n",
    "        value=amount*((1+rate/(12*100))**(y*12))\n",
    "        print(y,value)"
   ]
  },
  {
   "cell_type": "code",
   "execution_count": 102,
   "metadata": {},
   "outputs": [
    {
     "name": "stdout",
     "output_type": "stream",
     "text": [
      "The amount invested:1000\n",
      "Annual interest rate::9\n",
      "1 1093.8068976709837\n",
      "2 1196.4135293926222\n",
      "3 1308.6453709165366\n",
      "4 1431.4053333137108\n",
      "5 1565.6810269415707\n",
      "6 1712.5527068212796\n",
      "7 1873.2019633462298\n",
      "8 2048.921228238936\n",
      "9 2241.124172232252\n",
      "10 2451.3570781248113\n",
      "11 2681.3112807075076\n",
      "12 2932.8367736408914\n",
      "13 3207.957092751521\n",
      "14 3508.8855954841697\n",
      "15 3838.0432674789427\n",
      "16 4198.078199528149\n",
      "17 4591.886891606074\n",
      "18 5022.637555363697\n",
      "19 5493.79560255814\n",
      "20 6009.151524472612\n",
      "21 6572.851386618251\n",
      "22 7189.430184049334\n",
      "23 7863.848325637133\n",
      "24 8601.531540820313\n",
      "25 9408.414529883785\n",
      "26 10290.98870893479\n",
      "27 11256.354433687085\n",
      "28 12312.278122196296\n",
      "29 13467.254736101859\n",
      "30 14730.576123040439\n"
     ]
    }
   ],
   "source": [
    "future()"
   ]
  },
  {
   "cell_type": "markdown",
   "metadata": {},
   "source": [
    "- 5\n",
    "![](./Photo/78.png)"
   ]
  },
  {
   "cell_type": "code",
   "execution_count": null,
   "metadata": {},
   "outputs": [],
   "source": [
    "def char():\n",
    "    a"
   ]
  },
  {
   "cell_type": "markdown",
   "metadata": {},
   "source": [
    "- 6\n",
    "![](./Photo/79.png)"
   ]
  },
  {
   "cell_type": "code",
   "execution_count": 8,
   "metadata": {},
   "outputs": [],
   "source": [
    "def day():\n",
    "    for n in range(2010,2021):\n",
    "        if n%4==0:\n",
    "            print(n,'年有366天')\n",
    "        else:\n",
    "            print(n,'年有365天')"
   ]
  },
  {
   "cell_type": "code",
   "execution_count": 9,
   "metadata": {},
   "outputs": [
    {
     "name": "stdout",
     "output_type": "stream",
     "text": [
      "2010 年有365天\n",
      "2011 年有365天\n",
      "2012 年有366天\n",
      "2013 年有365天\n",
      "2014 年有365天\n",
      "2015 年有365天\n",
      "2016 年有366天\n",
      "2017 年有365天\n",
      "2018 年有365天\n",
      "2019 年有365天\n",
      "2020 年有366天\n"
     ]
    }
   ],
   "source": [
    "day()"
   ]
  },
  {
   "cell_type": "markdown",
   "metadata": {},
   "source": [
    "- 7\n",
    "![](./Photo/80.png)"
   ]
  },
  {
   "cell_type": "code",
   "execution_count": 10,
   "metadata": {},
   "outputs": [],
   "source": [
    "import math\n",
    "def distance():\n",
    "    x1,y1,x2,y2=eval(input('计算两点间距离'))\n",
    "    dis=math.sqrt((x1-x2)**2+(y1-y2)**2)\n",
    "    print(dis)"
   ]
  },
  {
   "cell_type": "code",
   "execution_count": 11,
   "metadata": {},
   "outputs": [
    {
     "name": "stdout",
     "output_type": "stream",
     "text": [
      "计算两点间距离2,2,1,1\n",
      "1.4142135623730951\n"
     ]
    }
   ],
   "source": [
    "distance()"
   ]
  },
  {
   "cell_type": "markdown",
   "metadata": {},
   "source": [
    "- 8\n",
    "![](./Photo/81.png)"
   ]
  },
  {
   "cell_type": "code",
   "execution_count": 15,
   "metadata": {},
   "outputs": [],
   "source": [
    "def sushu():\n",
    "    for p in range(1,32):\n",
    "        n=2**p-1\n",
    "        print(p,n)"
   ]
  },
  {
   "cell_type": "code",
   "execution_count": 16,
   "metadata": {},
   "outputs": [
    {
     "name": "stdout",
     "output_type": "stream",
     "text": [
      "1 1\n",
      "2 3\n",
      "3 7\n",
      "4 15\n",
      "5 31\n",
      "6 63\n",
      "7 127\n",
      "8 255\n",
      "9 511\n",
      "10 1023\n",
      "11 2047\n",
      "12 4095\n",
      "13 8191\n",
      "14 16383\n",
      "15 32767\n",
      "16 65535\n",
      "17 131071\n",
      "18 262143\n",
      "19 524287\n",
      "20 1048575\n",
      "21 2097151\n",
      "22 4194303\n",
      "23 8388607\n",
      "24 16777215\n",
      "25 33554431\n",
      "26 67108863\n",
      "27 134217727\n",
      "28 268435455\n",
      "29 536870911\n",
      "30 1073741823\n",
      "31 2147483647\n"
     ]
    }
   ],
   "source": [
    "sushu()"
   ]
  },
  {
   "cell_type": "markdown",
   "metadata": {},
   "source": [
    "- 9\n",
    "![](./Photo/82.png)\n",
    "![](./Photo/83.png)"
   ]
  },
  {
   "cell_type": "markdown",
   "metadata": {},
   "source": [
    "- 10\n",
    "![](./Photo/84.png)"
   ]
  },
  {
   "cell_type": "code",
   "execution_count": 38,
   "metadata": {},
   "outputs": [],
   "source": [
    "def game():\n",
    "    num1=eval(input('第一次'))\n",
    "    num2=eval(input('第二次'))\n",
    "    sum1=num1+num2\n",
    "    if (sum1==2)or(sum1==3)or(sum1==12):\n",
    "        print(sum1,'You lose')\n",
    "    elif sum1==7 or sum1==11:\n",
    "        print(sum1,'You win')\n",
    "    else:\n",
    "        while sum1==sum2 or sum2==7:\n",
    "            break\n",
    "            print('point is',sum1,'\\n',sum2,'You win')\n",
    "        else:\n",
    "            print('point is',sum1,'\\n',sum2,'You lose')\n",
    "            \n",
    "            \n",
    "            "
   ]
  },
  {
   "cell_type": "code",
   "execution_count": 39,
   "metadata": {},
   "outputs": [
    {
     "name": "stdout",
     "output_type": "stream",
     "text": [
      "第一次1\n",
      "第二次9\n"
     ]
    },
    {
     "ename": "NameError",
     "evalue": "name 'sum2' is not defined",
     "output_type": "error",
     "traceback": [
      "\u001b[1;31m---------------------------------------------------------------------------\u001b[0m",
      "\u001b[1;31mNameError\u001b[0m                                 Traceback (most recent call last)",
      "\u001b[1;32m<ipython-input-39-4a8413945148>\u001b[0m in \u001b[0;36m<module>\u001b[1;34m()\u001b[0m\n\u001b[1;32m----> 1\u001b[1;33m \u001b[0mgame\u001b[0m\u001b[1;33m(\u001b[0m\u001b[1;33m)\u001b[0m\u001b[1;33m\u001b[0m\u001b[0m\n\u001b[0m",
      "\u001b[1;32m<ipython-input-38-2ef2cfc0667a>\u001b[0m in \u001b[0;36mgame\u001b[1;34m()\u001b[0m\n\u001b[0;32m      8\u001b[0m         \u001b[0mprint\u001b[0m\u001b[1;33m(\u001b[0m\u001b[0msum1\u001b[0m\u001b[1;33m,\u001b[0m\u001b[1;34m'You win'\u001b[0m\u001b[1;33m)\u001b[0m\u001b[1;33m\u001b[0m\u001b[0m\n\u001b[0;32m      9\u001b[0m     \u001b[1;32melse\u001b[0m\u001b[1;33m:\u001b[0m\u001b[1;33m\u001b[0m\u001b[0m\n\u001b[1;32m---> 10\u001b[1;33m         \u001b[1;32mwhile\u001b[0m \u001b[0msum1\u001b[0m\u001b[1;33m==\u001b[0m\u001b[0msum2\u001b[0m \u001b[1;32mor\u001b[0m \u001b[0msum2\u001b[0m\u001b[1;33m==\u001b[0m\u001b[1;36m7\u001b[0m\u001b[1;33m:\u001b[0m\u001b[1;33m\u001b[0m\u001b[0m\n\u001b[0m\u001b[0;32m     11\u001b[0m             \u001b[1;32mbreak\u001b[0m\u001b[1;33m\u001b[0m\u001b[0m\n\u001b[0;32m     12\u001b[0m             \u001b[0mprint\u001b[0m\u001b[1;33m(\u001b[0m\u001b[1;34m'point is'\u001b[0m\u001b[1;33m,\u001b[0m\u001b[0msum1\u001b[0m\u001b[1;33m,\u001b[0m\u001b[1;34m'\\n'\u001b[0m\u001b[1;33m,\u001b[0m\u001b[0msum2\u001b[0m\u001b[1;33m,\u001b[0m\u001b[1;34m'You win'\u001b[0m\u001b[1;33m)\u001b[0m\u001b[1;33m\u001b[0m\u001b[0m\n",
      "\u001b[1;31mNameError\u001b[0m: name 'sum2' is not defined"
     ]
    }
   ],
   "source": [
    "game()"
   ]
  },
  {
   "cell_type": "markdown",
   "metadata": {},
   "source": [
    "- 11 \n",
    "### 去网上寻找如何用Python代码发送邮件"
   ]
  }
 ],
 "metadata": {
  "kernelspec": {
   "display_name": "Python 3",
   "language": "python",
   "name": "python3"
  },
  "language_info": {
   "codemirror_mode": {
    "name": "ipython",
    "version": 3
   },
   "file_extension": ".py",
   "mimetype": "text/x-python",
   "name": "python",
   "nbconvert_exporter": "python",
   "pygments_lexer": "ipython3",
   "version": "3.6.4"
  }
 },
 "nbformat": 4,
 "nbformat_minor": 2
}
