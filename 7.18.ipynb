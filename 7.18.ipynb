{
 "cells": [
  {
   "cell_type": "markdown",
   "metadata": {},
   "source": [
    "# 选择\n",
    "## 布尔类型、数值和表达式\n",
    "![](../Photo/33.png)\n",
    "- 注意：比较运算符的相等是两个等到，一个等到代表赋值\n",
    "- 在Python中可以用整型0来代表False，其他数字来代表True\n",
    "- 后面还会讲到 is 在判断语句中的用发"
   ]
  },
  {
   "cell_type": "markdown",
   "metadata": {},
   "source": [
    "## 字符串的比较使用ASCII值"
   ]
  },
  {
   "cell_type": "code",
   "execution_count": 3,
   "metadata": {},
   "outputs": [
    {
     "name": "stdout",
     "output_type": "stream",
     "text": [
      "shuru90\n",
      "B\n"
     ]
    }
   ],
   "source": [
    "num=int(input('shuru'))\n",
    "if  90<num<100:\n",
    "    print('A')\n",
    "elif 80<num<=90:\n",
    "    print('B')\n",
    "else:\n",
    "    print('C')"
   ]
  },
  {
   "cell_type": "markdown",
   "metadata": {},
   "source": [
    "## Markdown \n",
    "- https://github.com/younghz/Markdown"
   ]
  },
  {
   "cell_type": "markdown",
   "metadata": {},
   "source": [
    "## EP:\n",
    "- <img src=\"./Photo/34.png\"></img>\n",
    "- 输入一个数字，判断其实奇数还是偶数"
   ]
  },
  {
   "cell_type": "markdown",
   "metadata": {},
   "source": [
    "## 产生随机数字\n",
    "- 函数random.randint(a,b) 可以用来产生一个a和b之间且包括a和b的随机整数"
   ]
  },
  {
   "cell_type": "code",
   "execution_count": 14,
   "metadata": {},
   "outputs": [
    {
     "name": "stdout",
     "output_type": "stream",
     "text": [
      "输入一个数字3\n",
      "9\n",
      "太小了\n"
     ]
    }
   ],
   "source": [
    "import random\n",
    "num=int(input('输入一个数字'))\n",
    "print(random.randint(1,10))\n",
    "if num>random.randint(1,10):\n",
    "    print('太大了')\n",
    "elif num==random.randint(1,10):\n",
    "    print('刚刚好')\n",
    "else:\n",
    "    print('太小了')"
   ]
  },
  {
   "cell_type": "code",
   "execution_count": 1,
   "metadata": {},
   "outputs": [
    {
     "name": "stdout",
     "output_type": "stream",
     "text": [
      "请输入数字5\n",
      "请输入数字\n"
     ]
    },
    {
     "ename": "SyntaxError",
     "evalue": "unexpected EOF while parsing (<string>, line 0)",
     "output_type": "error",
     "traceback": [
      "Traceback \u001b[1;36m(most recent call last)\u001b[0m:\n",
      "  File \u001b[0;32m\"D:\\python\\pythonluj\\lib\\site-packages\\IPython\\core\\interactiveshell.py\"\u001b[0m, line \u001b[0;32m2910\u001b[0m, in \u001b[0;35mrun_code\u001b[0m\n    exec(code_obj, self.user_global_ns, self.user_ns)\n",
      "\u001b[1;36m  File \u001b[1;32m\"<ipython-input-1-8ca4ba31f631>\"\u001b[1;36m, line \u001b[1;32m4\u001b[1;36m, in \u001b[1;35m<module>\u001b[1;36m\u001b[0m\n\u001b[1;33m    input_num=eval(input('请输入数字'))\u001b[0m\n",
      "\u001b[1;36m  File \u001b[1;32m\"<string>\"\u001b[1;36m, line \u001b[1;32munknown\u001b[0m\n\u001b[1;33m    \u001b[0m\n\u001b[1;37m    ^\u001b[0m\n\u001b[1;31mSyntaxError\u001b[0m\u001b[1;31m:\u001b[0m unexpected EOF while parsing\n"
     ]
    }
   ],
   "source": [
    "import random\n",
    "random_num=random.randint(1,10)\n",
    "while True:\n",
    "    input_num=eval(input('请输入数字'))\n",
    "if input_num==random_num:\n",
    "        print('刚刚好')\n",
    "        break\n",
    "elif input_num > random_num:\n",
    "        print('太大了')\n",
    "else:\n",
    "        print('太小了')"
   ]
  },
  {
   "cell_type": "markdown",
   "metadata": {},
   "source": [
    "##  其他random方法\n",
    "- random.random 返回0.0到1.0之间前闭后开区间的随机浮点\n",
    "- random.randrange(a,b) 前闭后开"
   ]
  },
  {
   "cell_type": "markdown",
   "metadata": {},
   "source": [
    "## EP：\n",
    "- 产生两个随机整数number1和number2，然后显示给用户，使用户输入数字的和，并判定其是否正确\n",
    "- 进阶:写一个随机序号点名程序"
   ]
  },
  {
   "cell_type": "code",
   "execution_count": 2,
   "metadata": {},
   "outputs": [
    {
     "name": "stdout",
     "output_type": "stream",
     "text": [
      "82\n",
      "70\n",
      "请输入数字的和152\n",
      "正确\n"
     ]
    }
   ],
   "source": [
    "import random\n",
    "num1=random.randint(1,100)\n",
    "num2=random.randint(1,100)\n",
    "sum=num1+num2\n",
    "print(num1)\n",
    "print(num2)\n",
    "num3=eval(input('请输入数字的和'))\n",
    "if sum==num3:\n",
    "    print('正确')\n",
    "else:\n",
    "    print('错误')\n"
   ]
  },
  {
   "cell_type": "markdown",
   "metadata": {},
   "source": [
    "## if语句\n",
    "- 如果条件正确就执行一个单向if语句，亦即当条件为真的时候才执行if内部的语句\n",
    "- Python有很多选择语句:\n",
    "> - 单向if \n",
    "  - 双向if-else\n",
    "  - 嵌套if\n",
    "  - 多向if-elif-else\n",
    "  \n",
    "- 注意：当语句含有子语句的时候，那么一定至少要有一个缩进，也就是说如果有儿子存在，那么一定要缩进\n",
    "- 切记不可tab键和space混用，单用tab 或者 space\n",
    "- 当你输出的结果是无论if是否为真时都需要显示时，语句应该与if对齐"
   ]
  },
  {
   "cell_type": "markdown",
   "metadata": {},
   "source": [
    "## EP：\n",
    "- 用户输入一个数字，判断其实奇数还是偶数\n",
    "- 进阶：可以查看下4.5实例研究猜生日"
   ]
  },
  {
   "cell_type": "markdown",
   "metadata": {},
   "source": [
    "## 双向if-else 语句\n",
    "- 如果条件为真，那么走if内部语句，否则走else内部语句"
   ]
  },
  {
   "cell_type": "markdown",
   "metadata": {},
   "source": [
    "## EP：\n",
    "- 产生两个随机整数number1和number2，然后显示给用户，使用户输入数字，并判定其是否正确,如果正确打印“you‘re correct”，否则打印正确错误"
   ]
  },
  {
   "cell_type": "markdown",
   "metadata": {},
   "source": [
    "## 嵌套if 和多向if-elif-else\n",
    "![](../Photo/35.png)"
   ]
  },
  {
   "cell_type": "code",
   "execution_count": 36,
   "metadata": {},
   "outputs": [
    {
     "name": "stdout",
     "output_type": "stream",
     "text": [
      "年龄25\n",
      "长相帅\n",
      "收入高\n",
      "见\n"
     ]
    }
   ],
   "source": [
    "age=eval(input('年龄'))\n",
    "if age<=30:\n",
    "    face=input('长相')\n",
    "    if face=='帅':\n",
    "        money=input('收入')\n",
    "        if money=='高': \n",
    "            print('见')\n",
    "        else:\n",
    "            print('不见')\n",
    "    else:\n",
    "        print('不见')\n",
    "else:\n",
    "        print('不见')"
   ]
  },
  {
   "cell_type": "markdown",
   "metadata": {},
   "source": [
    "## EP：\n",
    "- 提示用户输入一个年份，然后显示表示这一年的动物\n",
    "![](./Photo/36.png)\n",
    "- 计算身体质量指数的程序\n",
    "- BMI = 以千克为单位的体重除以以米为单位的身高\n",
    "![](./Photo/37.png)"
   ]
  },
  {
   "cell_type": "code",
   "execution_count": 4,
   "metadata": {},
   "outputs": [
    {
     "ename": "SyntaxError",
     "evalue": "invalid syntax (<ipython-input-4-e7ad8f3b0274>, line 6)",
     "output_type": "error",
     "traceback": [
      "\u001b[1;36m  File \u001b[1;32m\"<ipython-input-4-e7ad8f3b0274>\"\u001b[1;36m, line \u001b[1;32m6\u001b[0m\n\u001b[1;33m    elif 18.5<= BMI<25:\u001b[0m\n\u001b[1;37m       ^\u001b[0m\n\u001b[1;31mSyntaxError\u001b[0m\u001b[1;31m:\u001b[0m invalid syntax\n"
     ]
    }
   ],
   "source": [
    "m=eval(input('输入身高'))\n",
    "kg=eval(input('输入体重'))\n",
    "BMI=kg/(m*m)\n",
    "if BMI<18.5:\n",
    "    print(BMI,'超轻')\n",
    "    elif 18.5<= BMI<25:\n",
    "        print(BMI,'标准')\n",
    "        elif 25<=BMI<30:\n",
    "            print(BMI,'超重')\n",
    "else:\n",
    "        print(BMI,'太胖')"
   ]
  },
  {
   "cell_type": "code",
   "execution_count": 5,
   "metadata": {},
   "outputs": [
    {
     "name": "stdout",
     "output_type": "stream",
     "text": [
      "输入年份1996\n",
      "鼠\n"
     ]
    }
   ],
   "source": [
    "year=eval(input('输入年份'))\n",
    "if year%12==0:\n",
    "    print('猴')\n",
    "if year%12==1:\n",
    "    print('鸡')\n",
    "if year%12==2:\n",
    "    print('狗')\n",
    "if year%12==3:\n",
    "    print('猪')\n",
    "if year%12==4:\n",
    "    print('鼠')\n",
    "if year%12==5:\n",
    "    print('牛')\n",
    "if year%12==6:\n",
    "    print('虎')\n",
    "if year%12==7:\n",
    "    print('兔')\n",
    "if year%12==8:\n",
    "    print('龙')\n",
    "if year%12==9:\n",
    "    print('蛇')\n",
    "if year%12==10:\n",
    "    print('马')\n",
    "if year%12==11:\n",
    "    print('羊')"
   ]
  },
  {
   "cell_type": "markdown",
   "metadata": {},
   "source": [
    "## 逻辑运算符\n",
    "![](./Photo/38.png)"
   ]
  },
  {
   "cell_type": "markdown",
   "metadata": {},
   "source": [
    "![](../Photo/39.png)\n",
    "![](../Photo/40.png)"
   ]
  },
  {
   "cell_type": "markdown",
   "metadata": {},
   "source": [
    "## EP：\n",
    "- 判定闰年：一个年份如果能被4整除但不能被100整除，或者能被400整除，那么这个年份就是闰年\n",
    "- 提示用户输入一个年份，并返回是否是闰年\n",
    "- 提示用户输入一个数字，判断其是否为水仙花数"
   ]
  },
  {
   "cell_type": "code",
   "execution_count": 1,
   "metadata": {},
   "outputs": [
    {
     "name": "stdout",
     "output_type": "stream",
     "text": [
      "年份2008\n",
      "闰年\n"
     ]
    }
   ],
   "source": [
    "year=int(input('年份'))\n",
    "if (year%4==0 and year%100 !=0)or(year//400==0):\n",
    "    print('闰年')\n",
    "else:\n",
    "    print('不是闰年')"
   ]
  },
  {
   "cell_type": "code",
   "execution_count": 30,
   "metadata": {},
   "outputs": [
    {
     "name": "stdout",
     "output_type": "stream",
     "text": [
      "153\n",
      "是\n"
     ]
    }
   ],
   "source": [
    "num=eval(input(''))\n",
    "num1=num%10\n",
    "num2=(num//10)%10\n",
    "num3=num//100\n",
    "sum=num1*num1*num1+num2*num2*num2+num3*num3*num3\n",
    "if sum==num:\n",
    "    print('是')\n",
    "else:\n",
    "    print('不是')"
   ]
  },
  {
   "cell_type": "markdown",
   "metadata": {},
   "source": [
    "## 实例研究：彩票\n",
    "![](./Photo/41.png)"
   ]
  },
  {
   "cell_type": "code",
   "execution_count": 1,
   "metadata": {},
   "outputs": [
    {
     "name": "stdout",
     "output_type": "stream",
     "text": [
      "62\n"
     ]
    }
   ],
   "source": [
    "import random\n",
    "num1=random.randint(11,99)\n",
    "print(num1)\n",
    "\n",
    "       "
   ]
  },
  {
   "cell_type": "markdown",
   "metadata": {},
   "source": [
    "# Homework\n",
    "- 1\n",
    "![](./Photo/42.png)"
   ]
  },
  {
   "cell_type": "code",
   "execution_count": 47,
   "metadata": {},
   "outputs": [
    {
     "name": "stdout",
     "output_type": "stream",
     "text": [
      "Enter a,b,c:1.0,3,1\n",
      "The roots are  -0.3819660112501051  and  -2.618033988749895\n"
     ]
    }
   ],
   "source": [
    "import math\n",
    "a,b,c=eval(input('Enter a,b,c:'))\n",
    "num=b*b/(a*c)\n",
    "r1=(-b+math.sqrt(b*b-4*a*c))/2*a\n",
    "r2=(-b-math.sqrt(b*b-4*a*c))/2*a\n",
    "if num>0:\n",
    "    print('The roots are ',r1,' and ',r2)\n",
    "elif num==0:\n",
    "    print('The roots is ',r1)\n",
    "else:\n",
    "    print('The equation has no real roots')"
   ]
  },
  {
   "cell_type": "markdown",
   "metadata": {},
   "source": [
    "- 2\n",
    "![](./Photo/43.png)"
   ]
  },
  {
   "cell_type": "code",
   "execution_count": 3,
   "metadata": {},
   "outputs": [
    {
     "name": "stdout",
     "output_type": "stream",
     "text": [
      "23\n",
      "84\n",
      "请输入数字的和100\n",
      "假\n"
     ]
    }
   ],
   "source": [
    "import random\n",
    "num1=random.randint(0,100)\n",
    "num2=random.randint(0,100)\n",
    "sum=num1+num2\n",
    "print(num1)\n",
    "print(num2)\n",
    "num3=eval(input('请输入数字的和'))\n",
    "if sum==num3:\n",
    "    print('真')\n",
    "else:\n",
    "    print('假')"
   ]
  },
  {
   "cell_type": "markdown",
   "metadata": {},
   "source": [
    "- 3\n",
    "![](./Photo/44.png)"
   ]
  },
  {
   "cell_type": "code",
   "execution_count": 44,
   "metadata": {},
   "outputs": [
    {
     "name": "stdout",
     "output_type": "stream",
     "text": [
      "Enter today is day:1\n",
      "Enter the number of days elapsed since today:3\n",
      "Today is Monday and the future day is Thursday\n"
     ]
    }
   ],
   "source": [
    "day1=int(input('Enter today is day:'))\n",
    "day2=int(input('Enter the number of days elapsed since today:'))\n",
    "day3=day1+day2\n",
    "if day1==0:\n",
    "    day1='Sunday'\n",
    "elif day1==1:\n",
    "    day1='Monday'\n",
    "elif day1==2:\n",
    "    day1='Tuesday'\n",
    "elif day1==3:\n",
    "    day1='Wednesday'\n",
    "elif day1==4:\n",
    "    day1='Thursday'\n",
    "elif day1==5:\n",
    "    day1='Firday'\n",
    "elif day1==6:\n",
    "    day1='Saturday'\n",
    "if day3==0:\n",
    "    day3='Sunday'\n",
    "elif day3==1:\n",
    "    day3='Monday'\n",
    "elif day3==2:\n",
    "    day3='Tuesday'\n",
    "elif day3==3:\n",
    "    day3='Wednesday'\n",
    "elif day3==4:\n",
    "    day3='Thursday'\n",
    "elif day3==5:\n",
    "    day3='Firday'\n",
    "elif day3==6:\n",
    "    day3='Saturday'\n",
    "print('Today is',day1,'and the future day is',day3)"
   ]
  },
  {
   "cell_type": "markdown",
   "metadata": {},
   "source": [
    "- 4\n",
    "![](./Photo/45.png)"
   ]
  },
  {
   "cell_type": "code",
   "execution_count": 84,
   "metadata": {},
   "outputs": [
    {
     "name": "stdout",
     "output_type": "stream",
     "text": [
      "输入三个整数8,2,5\n",
      "2 5 8\n"
     ]
    }
   ],
   "source": [
    "a,b,c=eval(input('输入三个整数'))\n",
    "print(min(a,b,c),(a+b+c-min(a,b,c)-max(a,b,c)),max(a,b,c))"
   ]
  },
  {
   "cell_type": "markdown",
   "metadata": {},
   "source": [
    "- 5\n",
    "![](./Photo/46.png)"
   ]
  },
  {
   "cell_type": "code",
   "execution_count": 14,
   "metadata": {},
   "outputs": [
    {
     "name": "stdout",
     "output_type": "stream",
     "text": [
      "Enter weight and price for package1:50,24.59\n",
      "Enter weight and price for package2:25,11.99\n",
      "Package 2 has the better price.\n"
     ]
    }
   ],
   "source": [
    "weight1,price1=eval(input('Enter weight and price for package1:'))\n",
    "weight2,price2=eval(input('Enter weight and price for package2:'))\n",
    "pack1=price1/weight1\n",
    "pack2=price2/weight2\n",
    "if pack1>pack2:\n",
    "    print('Package 2 has the better price.')\n",
    "elif pack1<pack2:\n",
    "    print('Package 1 has the better price.')\n",
    "else:\n",
    "    print('The same.')"
   ]
  },
  {
   "cell_type": "markdown",
   "metadata": {},
   "source": [
    "- 6\n",
    "![](./Photo/47.png)"
   ]
  },
  {
   "cell_type": "code",
   "execution_count": 87,
   "metadata": {},
   "outputs": [
    {
     "name": "stdout",
     "output_type": "stream",
     "text": [
      "输入月份与年份2,2008\n",
      "2008 是闰年 2 月有29天\n"
     ]
    }
   ],
   "source": [
    "month,year=eval(input('输入月份与年份'))\n",
    "big=(1,3,5,7,8,10,12)\n",
    "small=(4,6,9,11)\n",
    "if (month in big):\n",
    "    print(year,'年',month,'月有31天')\n",
    "elif (month in small):\n",
    "    print(year,'年',month,'月有30天')\n",
    "else: \n",
    "    if (year%4==0 and year%100 !=0)or(year//400==0):\n",
    "        print(year,'是闰年',month,'月有29天')\n",
    "    else:\n",
    "        print(year,'是平年',month,'月有28天')"
   ]
  },
  {
   "cell_type": "markdown",
   "metadata": {},
   "source": [
    "- 7\n",
    "![](./Photo/48.png)"
   ]
  },
  {
   "cell_type": "code",
   "execution_count": 13,
   "metadata": {},
   "outputs": [
    {
     "name": "stdout",
     "output_type": "stream",
     "text": [
      "猜猜正反:0\n",
      "错误\n"
     ]
    }
   ],
   "source": [
    "import random\n",
    "num1=eval(input('猜猜正反:'))\n",
    "num1=0 or 1\n",
    "num2=random.randint(0,1)\n",
    "if num1==num2:\n",
    "    print('正确')\n",
    "if num1!=num2:\n",
    "    print('错误')\n",
    "\n"
   ]
  },
  {
   "cell_type": "markdown",
   "metadata": {},
   "source": [
    "- 8\n",
    "![](./Photo/49.png)"
   ]
  },
  {
   "cell_type": "code",
   "execution_count": 80,
   "metadata": {},
   "outputs": [
    {
     "name": "stdout",
     "output_type": "stream",
     "text": [
      "scissor (0),rock(1),paper(2):1\n",
      "The computer is paper . You are  rock .You lost.\n"
     ]
    }
   ],
   "source": [
    "import random\n",
    "person=int(input('scissor (0),rock(1),paper(2):'))\n",
    "comp=random.randint(0,2)     \n",
    "if comp==0:\n",
    "    comp='scissor'\n",
    "    if person==0:\n",
    "        person='scissor'\n",
    "        print('The computer is',comp,'. You are ',person,'.too')    \n",
    "    elif person==1:\n",
    "        person='rock'\n",
    "        print('The computer is',comp,'. You are ',person,'.You won.') \n",
    "    elif person==2:\n",
    "        person='paper'\n",
    "        print('The computer is',comp,'. You are ',person,'.You lost.') \n",
    "elif comp==1:\n",
    "    comp='rock'\n",
    "    if person==0:\n",
    "        person='scissor'\n",
    "        print('The computer is',comp,'. You are ',person,'.You lost.')   \n",
    "    elif person==1:\n",
    "        person='rock'\n",
    "        print('The computer is',comp,'. You are ',person,'.too') \n",
    "    elif person==2:\n",
    "        person='paper'\n",
    "        print('The computer is',comp,'. You are ',person,'.You won.')        \n",
    "elif comp==2:\n",
    "    comp='paper'\n",
    "    if person==0:\n",
    "        person='scissor' \n",
    "        print('The computer is',comp,'. You are ',person,'.You won.')     \n",
    "    elif person==1:\n",
    "        person='rock'\n",
    "        print('The computer is',comp,'. You are ',person,'.You lost.')  \n",
    "    elif person==2:\n",
    "        person='paper'\n",
    "        print('The computer is',comp,'. You are ',person,'.too')  \n",
    "\n",
    "\n",
    "    "
   ]
  },
  {
   "cell_type": "markdown",
   "metadata": {},
   "source": [
    "- 9\n",
    "![](./Photo/50.png)"
   ]
  },
  {
   "cell_type": "code",
   "execution_count": 102,
   "metadata": {},
   "outputs": [
    {
     "name": "stdout",
     "output_type": "stream",
     "text": [
      "Enter year:2012\n",
      "Enter month:5\n",
      "Enter the day of the month:12\n",
      "Saturday\n"
     ]
    }
   ],
   "source": [
    "year=int(input('Enter year:'))\n",
    "m=int(input('Enter month:'))\n",
    "q=int(input('Enter the day of the month:'))\n",
    "j=(year/100)//1\n",
    "k=year%100\n",
    "if m==1:\n",
    "    h=((q+(26*(13+1)/10)//1)+k+((k/4)//1)+((j/4)//1)+5*j)%7\n",
    "elif m==2:\n",
    "    h=((q+(26*(14+1)/10)//1)+k+((k/4)//1)+((j/4)//1)+5*j)%7\n",
    "else:\n",
    "     h=((q+(26*(m+1)/10)//1)+k+((k/4)//1)+((j/4)//1)+5*j)%7\n",
    "if h==0:\n",
    "    print('Saturday')\n",
    "elif h==1:\n",
    "    print('Sunday')\n",
    "elif h==2:\n",
    "    print('Monday')\n",
    "elif h==3:\n",
    "    print('Tuesday')\n",
    "elif h==4:\n",
    "    print('Wednesday')\n",
    "elif h==5:\n",
    "    print('Thursday')\n",
    "elif h==6:\n",
    "    print('Firday')\n"
   ]
  },
  {
   "cell_type": "markdown",
   "metadata": {},
   "source": [
    "- 10\n",
    "![](./Photo/51.png)"
   ]
  },
  {
   "cell_type": "code",
   "execution_count": 93,
   "metadata": {},
   "outputs": [
    {
     "name": "stdout",
     "output_type": "stream",
     "text": [
      "The card you pick is the  黑桃 Jack\n"
     ]
    }
   ],
   "source": [
    "import random\n",
    "num1=random.choice(['A',2,3,4,5,6,7,8,9,10,'Jack','Queen','King'])\n",
    "num2=random.choice(['梅花','红桃','方块','黑桃'])\n",
    "print('The card you pick is the ',num2,num1)"
   ]
  },
  {
   "cell_type": "markdown",
   "metadata": {},
   "source": [
    "- 11\n",
    "![](./Photo/52.png)"
   ]
  },
  {
   "cell_type": "code",
   "execution_count": 62,
   "metadata": {},
   "outputs": [
    {
     "name": "stdout",
     "output_type": "stream",
     "text": [
      "Enter a three-digit integer:121\n",
      "121  is a palidrome\n"
     ]
    }
   ],
   "source": [
    "num=int(input('Enter a three-digit integer:'))\n",
    "num1=num%10\n",
    "num2=(num//10)%10\n",
    "num3=num//100\n",
    "num4=num1*100+num2*10+num3\n",
    "if num==num4:\n",
    "    print(num,' is a palidrome')\n",
    "else:\n",
    "    print(num,' is not a palidrome')"
   ]
  },
  {
   "cell_type": "markdown",
   "metadata": {},
   "source": [
    "- 12\n",
    "![](./Photo/53.png)"
   ]
  },
  {
   "cell_type": "code",
   "execution_count": 59,
   "metadata": {},
   "outputs": [
    {
     "name": "stdout",
     "output_type": "stream",
     "text": [
      "Enter three edges:1,1,1\n",
      "The perimeter is  3\n"
     ]
    }
   ],
   "source": [
    "a,b,c=eval(input('Enter three edges:'))\n",
    "sum=a+b+c\n",
    "if a+b>=c:\n",
    "    if a+c>=b:\n",
    "        if b+c>=a:\n",
    "            print('The perimeter is ',sum)\n",
    "else:\n",
    "    print('NO')\n"
   ]
  }
 ],
 "metadata": {
  "kernelspec": {
   "display_name": "Python 3",
   "language": "python",
   "name": "python3"
  },
  "language_info": {
   "codemirror_mode": {
    "name": "ipython",
    "version": 3
   },
   "file_extension": ".py",
   "mimetype": "text/x-python",
   "name": "python",
   "nbconvert_exporter": "python",
   "pygments_lexer": "ipython3",
   "version": "3.6.4"
  }
 },
 "nbformat": 4,
 "nbformat_minor": 2
}
